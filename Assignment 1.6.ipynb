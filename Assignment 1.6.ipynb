{
 "cells": [
  {
   "cell_type": "code",
   "execution_count": 10,
   "metadata": {},
   "outputs": [
    {
     "name": "stdout",
     "output_type": "stream",
     "text": [
      "*         \n",
      "\n",
      "* *       \n",
      "\n",
      "* * *     \n",
      "\n",
      "* * * *   \n",
      "\n",
      "* * * * * \n",
      "\n",
      "* * * *   \n",
      "\n",
      "* * *     \n",
      "\n",
      "* *       \n",
      "\n",
      "*         \n",
      "\n"
     ]
    }
   ],
   "source": [
    "\n",
    "for i in range(9):              # setting a loop for vertical counting\n",
    "    for j in range(5):          # setting a loop for horizontal counting\n",
    "        if i <= 4 and j <= i:           #condition for top 5 rows.\n",
    "            print(\"*\", end=\" \")\n",
    "        elif i >= 5 and j <= (8-i):     #condition for bottom 4 rows.\n",
    "            print(\"*\", end=\" \")\n",
    "        else:\n",
    "            print(\" \", end=\" \")\n",
    "    print('\\n')                         #new line after each row"
   ]
  },
  {
   "cell_type": "code",
   "execution_count": null,
   "metadata": {
    "collapsed": true
   },
   "outputs": [],
   "source": []
  }
 ],
 "metadata": {
  "kernelspec": {
   "display_name": "Python 3",
   "language": "python",
   "name": "python3"
  },
  "language_info": {
   "codemirror_mode": {
    "name": "ipython",
    "version": 3
   },
   "file_extension": ".py",
   "mimetype": "text/x-python",
   "name": "python",
   "nbconvert_exporter": "python",
   "pygments_lexer": "ipython3",
   "version": "3.6.3"
  }
 },
 "nbformat": 4,
 "nbformat_minor": 2
}
